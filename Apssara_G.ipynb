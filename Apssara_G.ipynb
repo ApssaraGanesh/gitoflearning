{
  "nbformat": 4,
  "nbformat_minor": 0,
  "metadata": {
    "colab": {
      "name": "Apssara.G.ipynb",
      "provenance": []
    },
    "kernelspec": {
      "name": "python3",
      "display_name": "Python 3"
    },
    "language_info": {
      "name": "python"
    }
  },
  "cells": [
    {
      "cell_type": "markdown",
      "source": [
        "APSSARA.G\n",
        "Email id:apssaraganesh99@gmail.com\n"
      ],
      "metadata": {
        "id": "ZA3xbmaiKSx4"
      }
    },
    {
      "cell_type": "markdown",
      "source": [
        "\n",
        "1)Write a code that takes in a number x from the user and creates a 1x20 array with random numbers ranging from 0 to x\n",
        "\n",
        "\n"
      ],
      "metadata": {
        "id": "ABkgv2jjKcml"
      }
    },
    {
      "cell_type": "code",
      "execution_count": 1,
      "metadata": {
        "colab": {
          "base_uri": "https://localhost:8080/"
        },
        "id": "-7xfs4KIf77V",
        "outputId": "452a4608-268e-4475-a8db-076e92ec8fee"
      },
      "outputs": [
        {
          "name": "stdout",
          "output_type": "stream",
          "text": [
            "enter a number 26\n"
          ]
        },
        {
          "output_type": "execute_result",
          "data": {
            "text/plain": [
              "array([[ 7, 23, 16,  4, 12, 23,  8,  2, 17, 15, 17,  6, 21, 20, 12, 14,\n",
              "         3, 19, 10,  3]])"
            ]
          },
          "metadata": {},
          "execution_count": 1
        }
      ],
      "source": [
        "x = int(input(\"enter a number \"))\n",
        "import numpy as np\n",
        "y = np.random.randint(0,x,(1,20))\n",
        "y"
      ]
    },
    {
      "cell_type": "markdown",
      "source": [
        "2)Write a code that creates a 4x5 array inwhich numbers ranging between 300 and 500 such that the difference between elements is 10\n"
      ],
      "metadata": {
        "id": "sZ9KEDBVKti8"
      }
    },
    {
      "cell_type": "code",
      "source": [
        "arr = np.arange(300, 500, 10).reshape(4,5)\n",
        "print (arr)"
      ],
      "metadata": {
        "colab": {
          "base_uri": "https://localhost:8080/"
        },
        "id": "56gCvupjwUMh",
        "outputId": "30f59123-dff6-4ab8-a16f-f2e9eed09151"
      },
      "execution_count": 8,
      "outputs": [
        {
          "output_type": "stream",
          "name": "stdout",
          "text": [
            "[[300 310 320 330 340]\n",
            " [350 360 370 380 390]\n",
            " [400 410 420 430 440]\n",
            " [450 460 470 480 490]]\n"
          ]
        }
      ]
    },
    {
      "cell_type": "markdown",
      "source": [
        "3)Write a code that creates a 20x20 numpy array of random values that ranges from -1000 to 1000 and obtain the maximum, minimum, and mean values"
      ],
      "metadata": {
        "id": "trdJWdqaK2Mp"
      }
    },
    {
      "cell_type": "code",
      "source": [
        "\n",
        "import numpy as np\n",
        "y = np.random.randint(-1000,1000,(20,20))\n",
        "print(np.max(y))\n",
        "print(np.min(y))\n",
        "print(np.mean(y))"
      ],
      "metadata": {
        "colab": {
          "base_uri": "https://localhost:8080/"
        },
        "id": "yZDXEUK-y3KF",
        "outputId": "69c5394a-9306-45d4-e23a-6f7af12d1926"
      },
      "execution_count": 12,
      "outputs": [
        {
          "output_type": "stream",
          "name": "stdout",
          "text": [
            "996\n",
            "-1000\n",
            "-49.65\n"
          ]
        }
      ]
    },
    {
      "cell_type": "markdown",
      "source": [
        "4)In the following matrix, replace the last row with -1 Multiply the 2x2 matrix in the upper right corner by 2 X = [2 30 20 -2 -4] [3 4 40 -3 -2] [-3 4 -6 90 10] [25 45 34 22 12] [13 24 22 32 37]"
      ],
      "metadata": {
        "id": "8dGbcGZMK8ic"
      }
    },
    {
      "cell_type": "code",
      "source": [
        "X = np.array([[2,30,20,-2,-4],[3,4,40,-3,-2], [-3, 4 ,-6, 90, 10] ,[25 ,45 ,34, 22 ,12], [13 ,24, 22 ,32, 37]])\n",
        "X[-1: ] =  -1\n",
        "print(X,'\\n')\n",
        "\n",
        "X[:2,3:] *= 2\n",
        "print(X)\n"
      ],
      "metadata": {
        "colab": {
          "base_uri": "https://localhost:8080/"
        },
        "id": "6_XDaKCL1mD-",
        "outputId": "41154a99-302e-4544-d9b6-fef37916189f"
      },
      "execution_count": 4,
      "outputs": [
        {
          "output_type": "stream",
          "name": "stdout",
          "text": [
            "[[ 2 30 20 -2 -4]\n",
            " [ 3  4 40 -3 -2]\n",
            " [-3  4 -6 90 10]\n",
            " [25 45 34 22 12]\n",
            " [-1 -1 -1 -1 -1]] \n",
            "\n",
            "[[ 2 30 20 -4 -8]\n",
            " [ 3  4 40 -6 -4]\n",
            " [-3  4 -6 90 10]\n",
            " [25 45 34 22 12]\n",
            " [-1 -1 -1 -1 -1]]\n"
          ]
        }
      ]
    },
    {
      "cell_type": "markdown",
      "source": [
        "5)In the following matrix, replace negative elements by 0 and replace odd elements with 25 X = [2 30 20 -2 -4] [3 4 40 -3 -2] [-3 4 -6 90 10] [25 45 34 22 12] [13 24 22 32 37]\n"
      ],
      "metadata": {
        "id": "1zLuwDONKP6u"
      }
    },
    {
      "cell_type": "code",
      "source": [
        "import numpy as np\n",
        "X = np.array([[2,30,20,-2,-4],[3,4,40,-3,-2], [-3, 4 ,-6, 90, 10] ,[25 ,45 ,34, 22 ,12], [13 ,24, 22 ,32, 37]])\n",
        "n = 0 \n",
        "r = 0\n",
        "print(np.where(X < n,r,X),'\\n')\n",
        "\n",
        "print(np.where( X % 2 == 1,25,X))\n"
      ],
      "metadata": {
        "colab": {
          "base_uri": "https://localhost:8080/"
        },
        "id": "dCOPJcti1sCe",
        "outputId": "df3fe550-372b-4a65-d950-0974e449967d"
      },
      "execution_count": 6,
      "outputs": [
        {
          "output_type": "stream",
          "name": "stdout",
          "text": [
            "[[ 2 30 20  0  0]\n",
            " [ 3  4 40  0  0]\n",
            " [ 0  4  0 90 10]\n",
            " [25 45 34 22 12]\n",
            " [13 24 22 32 37]] \n",
            "\n",
            "[[ 2 30 20 -2 -4]\n",
            " [25  4 40 25 -2]\n",
            " [25  4 -6 90 10]\n",
            " [25 25 34 22 12]\n",
            " [25 24 22 32 25]]\n"
          ]
        }
      ]
    }
  ]
}